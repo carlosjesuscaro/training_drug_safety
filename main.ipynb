{
 "cells": [
  {
   "cell_type": "code",
   "id": "initial_id",
   "metadata": {
    "collapsed": true,
    "ExecuteTime": {
     "end_time": "2025-05-06T04:31:06.722345Z",
     "start_time": "2025-05-06T04:31:06.717902Z"
    }
   },
   "source": [
    "# Loading the packages\n",
    "\n",
    "import pandas as pd\n",
    "import numpy as np\n",
    "import seaborn as sns\n",
    "import matplotlib.pyplot as plt\n",
    "import sklearn\n",
    "from scipy import stats"
   ],
   "outputs": [],
   "execution_count": 48
  },
  {
   "metadata": {
    "ExecuteTime": {
     "end_time": "2025-05-06T04:31:08.737076Z",
     "start_time": "2025-05-06T04:31:08.723010Z"
    }
   },
   "cell_type": "code",
   "source": [
    "# Loading the data\n",
    "data = pd.read_csv('data/drug_safety.csv')"
   ],
   "id": "d0889fee70af896d",
   "outputs": [],
   "execution_count": 49
  },
  {
   "metadata": {},
   "cell_type": "markdown",
   "source": [
    "- wbc: white blood cells\n",
    "- rbc: red blood cells"
   ],
   "id": "b2d96e159cecda95"
  },
  {
   "metadata": {
    "ExecuteTime": {
     "end_time": "2025-05-06T04:31:11.027717Z",
     "start_time": "2025-05-06T04:31:11.021677Z"
    }
   },
   "cell_type": "code",
   "source": [
    "# Exploring the data\n",
    "\n",
    "data.info()"
   ],
   "id": "7c6612f1f72e1237",
   "outputs": [
    {
     "name": "stdout",
     "output_type": "stream",
     "text": [
      "<class 'pandas.core.frame.DataFrame'>\n",
      "RangeIndex: 16103 entries, 0 to 16102\n",
      "Data columns (total 8 columns):\n",
      " #   Column           Non-Null Count  Dtype  \n",
      "---  ------           --------------  -----  \n",
      " 0   age              16103 non-null  int64  \n",
      " 1   sex              16103 non-null  object \n",
      " 2   trx              16103 non-null  object \n",
      " 3   week             16103 non-null  int64  \n",
      " 4   wbc              9128 non-null   float64\n",
      " 5   rbc              9127 non-null   float64\n",
      " 6   adverse_effects  16103 non-null  object \n",
      " 7   num_effects      16103 non-null  int64  \n",
      "dtypes: float64(2), int64(3), object(3)\n",
      "memory usage: 1006.6+ KB\n"
     ]
    }
   ],
   "execution_count": 50
  },
  {
   "metadata": {
    "ExecuteTime": {
     "end_time": "2025-05-06T04:31:14.406830Z",
     "start_time": "2025-05-06T04:31:14.400664Z"
    }
   },
   "cell_type": "code",
   "source": "data.head()",
   "id": "244e937484ea0a6f",
   "outputs": [
    {
     "data": {
      "text/plain": [
       "   age   sex   trx  week  wbc  rbc adverse_effects  num_effects\n",
       "0   62  male  Drug     0  7.3  5.1              No            0\n",
       "1   62  male  Drug     1  NaN  NaN              No            0\n",
       "2   62  male  Drug    12  5.6  5.0              No            0\n",
       "3   62  male  Drug    16  NaN  NaN              No            0\n",
       "4   62  male  Drug     2  6.6  5.1              No            0"
      ],
      "text/html": [
       "<div>\n",
       "<style scoped>\n",
       "    .dataframe tbody tr th:only-of-type {\n",
       "        vertical-align: middle;\n",
       "    }\n",
       "\n",
       "    .dataframe tbody tr th {\n",
       "        vertical-align: top;\n",
       "    }\n",
       "\n",
       "    .dataframe thead th {\n",
       "        text-align: right;\n",
       "    }\n",
       "</style>\n",
       "<table border=\"1\" class=\"dataframe\">\n",
       "  <thead>\n",
       "    <tr style=\"text-align: right;\">\n",
       "      <th></th>\n",
       "      <th>age</th>\n",
       "      <th>sex</th>\n",
       "      <th>trx</th>\n",
       "      <th>week</th>\n",
       "      <th>wbc</th>\n",
       "      <th>rbc</th>\n",
       "      <th>adverse_effects</th>\n",
       "      <th>num_effects</th>\n",
       "    </tr>\n",
       "  </thead>\n",
       "  <tbody>\n",
       "    <tr>\n",
       "      <th>0</th>\n",
       "      <td>62</td>\n",
       "      <td>male</td>\n",
       "      <td>Drug</td>\n",
       "      <td>0</td>\n",
       "      <td>7.3</td>\n",
       "      <td>5.1</td>\n",
       "      <td>No</td>\n",
       "      <td>0</td>\n",
       "    </tr>\n",
       "    <tr>\n",
       "      <th>1</th>\n",
       "      <td>62</td>\n",
       "      <td>male</td>\n",
       "      <td>Drug</td>\n",
       "      <td>1</td>\n",
       "      <td>NaN</td>\n",
       "      <td>NaN</td>\n",
       "      <td>No</td>\n",
       "      <td>0</td>\n",
       "    </tr>\n",
       "    <tr>\n",
       "      <th>2</th>\n",
       "      <td>62</td>\n",
       "      <td>male</td>\n",
       "      <td>Drug</td>\n",
       "      <td>12</td>\n",
       "      <td>5.6</td>\n",
       "      <td>5.0</td>\n",
       "      <td>No</td>\n",
       "      <td>0</td>\n",
       "    </tr>\n",
       "    <tr>\n",
       "      <th>3</th>\n",
       "      <td>62</td>\n",
       "      <td>male</td>\n",
       "      <td>Drug</td>\n",
       "      <td>16</td>\n",
       "      <td>NaN</td>\n",
       "      <td>NaN</td>\n",
       "      <td>No</td>\n",
       "      <td>0</td>\n",
       "    </tr>\n",
       "    <tr>\n",
       "      <th>4</th>\n",
       "      <td>62</td>\n",
       "      <td>male</td>\n",
       "      <td>Drug</td>\n",
       "      <td>2</td>\n",
       "      <td>6.6</td>\n",
       "      <td>5.1</td>\n",
       "      <td>No</td>\n",
       "      <td>0</td>\n",
       "    </tr>\n",
       "  </tbody>\n",
       "</table>\n",
       "</div>"
      ]
     },
     "execution_count": 51,
     "metadata": {},
     "output_type": "execute_result"
    }
   ],
   "execution_count": 51
  },
  {
   "metadata": {
    "ExecuteTime": {
     "end_time": "2025-05-06T04:31:18.788214Z",
     "start_time": "2025-05-06T04:31:18.781112Z"
    }
   },
   "cell_type": "code",
   "source": [
    "print(data.trx.unique())\n",
    "print(data.adverse_effects.unique())\n",
    "print(data.num_effects.unique())"
   ],
   "id": "e4cf5a8478e69652",
   "outputs": [
    {
     "name": "stdout",
     "output_type": "stream",
     "text": [
      "['Drug' 'Placebo']\n",
      "['No' 'Yes']\n",
      "[0 1 3 2]\n"
     ]
    }
   ],
   "execution_count": 52
  },
  {
   "metadata": {
    "ExecuteTime": {
     "end_time": "2025-05-06T04:43:12.742608Z",
     "start_time": "2025-05-06T04:43:12.739888Z"
    }
   },
   "cell_type": "code",
   "source": [
    "# Handling NAs\n",
    "data_rbc = data.rbc.dropna()\n",
    "data_wbc = data.wbc.dropna()"
   ],
   "id": "f0e9738d56ee6470",
   "outputs": [],
   "execution_count": 80
  },
  {
   "metadata": {
    "ExecuteTime": {
     "end_time": "2025-05-06T04:31:40.771541Z",
     "start_time": "2025-05-06T04:31:40.566589Z"
    }
   },
   "cell_type": "code",
   "source": [
    "# Checking for Normality (visually)\n",
    "fig, ax = plt.subplots(1, 2, figsize=(10, 6))\n",
    "\n",
    "sns.histplot(data=data.rbc, ax=ax[0], kde=True)\n",
    "ax[0].set_title('Red Blood Cells')\n",
    "sns.histplot(data=data.wbc, ax=ax[1], kde=True)\n",
    "ax[1].set_title('White Blood Cells')\n",
    "plt.show()\n"
   ],
   "id": "8df89ca65b78f16c",
   "outputs": [
    {
     "data": {
      "text/plain": [
       "<Figure size 1000x600 with 2 Axes>"
      ],
      "image/png": "[encoded data removed]"
     },
     "metadata": {},
     "output_type": "display_data"
    }
   ],
   "execution_count": 53
  },
  {
   "metadata": {
    "ExecuteTime": {
     "end_time": "2025-05-06T04:46:13.698211Z",
     "start_time": "2025-05-06T04:46:13.693863Z"
    }
   },
   "cell_type": "code",
   "source": [
    "# Checking normality with Shapiro-Wilk\n",
    "# White cells\n",
    "shapiro_statistic, shapiro_p_value = stats.shapiro(data_wbc)\n",
    "print(f\"Shapiro-Wilk statistic: {shapiro_statistic:.3f}\")\n",
    "print(f\"Shapiro-Wilk p-value: {shapiro_p_value:.3f}\")\n",
    "\n",
    "# White cells\n",
    "shapiro_statistic, shapiro_p_value = stats.shapiro(data_rbc)\n",
    "print(f\"Shapiro-Wilk statistic: {shapiro_statistic:.3f}\")\n",
    "print(f\"Shapiro-Wilk p-value: {shapiro_p_value:.3f}\")\n"
   ],
   "id": "e9213c3940103fd2",
   "outputs": [
    {
     "name": "stdout",
     "output_type": "stream",
     "text": [
      "Shapiro-Wilk statistic: 0.937\n",
      "Shapiro-Wilk p-value: 0.000\n",
      "Shapiro-Wilk statistic: 0.985\n",
      "Shapiro-Wilk p-value: 0.000\n"
     ]
    },
    {
     "name": "stderr",
     "output_type": "stream",
     "text": [
      "/home/carlos/Data/Training/ML/DrugSafety/.venv/lib/python3.13/site-packages/scipy/stats/_axis_nan_policy.py:586: UserWarning: scipy.stats.shapiro: For N > 5000, computed p-value may not be accurate. Current N is 9128.\n",
      "  res = hypotest_fun_out(*samples, **kwds)\n",
      "/home/carlos/Data/Training/ML/DrugSafety/.venv/lib/python3.13/site-packages/scipy/stats/_axis_nan_policy.py:586: UserWarning: scipy.stats.shapiro: For N > 5000, computed p-value may not be accurate. Current N is 9127.\n",
      "  res = hypotest_fun_out(*samples, **kwds)\n"
     ]
    }
   ],
   "execution_count": 84
  },
  {
   "metadata": {
    "ExecuteTime": {
     "end_time": "2025-05-06T04:49:42.209762Z",
     "start_time": "2025-05-06T04:49:42.207019Z"
    }
   },
   "cell_type": "code",
   "source": [
    "print(f'WBC mean: {data_wbc.mean()}')\n",
    "print(f'RBC mean: {data_rbc.mean()}')"
   ],
   "id": "84984c60a33d47ba",
   "outputs": [
    {
     "name": "stdout",
     "output_type": "stream",
     "text": [
      "WBC mean: 7.340556537571209\n",
      "RBC mean: 4.672784046011833\n"
     ]
    }
   ],
   "execution_count": 86
  },
  {
   "metadata": {
    "ExecuteTime": {
     "end_time": "2025-05-06T04:46:43.469509Z",
     "start_time": "2025-05-06T04:46:43.463046Z"
    }
   },
   "cell_type": "code",
   "source": [
    "t_statistic, p_value = stats.ttest_ind(data_wbc, data_rbc)\n",
    "print(t_statistic, p_value)"
   ],
   "id": "34a24611db132ec1",
   "outputs": [
    {
     "name": "stdout",
     "output_type": "stream",
     "text": [
      "124.40900305812126 0.0\n"
     ]
    }
   ],
   "execution_count": 85
  },
  {
   "metadata": {
    "ExecuteTime": {
     "end_time": "2025-05-06T04:51:14.044827Z",
     "start_time": "2025-05-06T04:51:14.038502Z"
    }
   },
   "cell_type": "code",
   "source": "len(data_wbc)",
   "id": "15352305f02af04a",
   "outputs": [
    {
     "data": {
      "text/plain": [
       "9128"
      ]
     },
     "execution_count": 88,
     "metadata": {},
     "output_type": "execute_result"
    }
   ],
   "execution_count": 88
  }
 ],
 "metadata": {
  "kernelspec": {
   "display_name": "Python 3",
   "language": "python",
   "name": "python3"
  },
  "language_info": {
   "codemirror_mode": {
    "name": "ipython",
    "version": 2
   },
   "file_extension": ".py",
   "mimetype": "text/x-python",
   "name": "python",
   "nbconvert_exporter": "python",
   "pygments_lexer": "ipython2",
   "version": "2.7.6"
  }
 },
 "nbformat": 4,
 "nbformat_minor": 5
}
